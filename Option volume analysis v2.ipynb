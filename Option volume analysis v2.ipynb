{
 "cells": [
  {
   "cell_type": "code",
   "execution_count": 1,
   "metadata": {},
   "outputs": [],
   "source": [
    "# !jupyter lab build"
   ]
  },
  {
   "cell_type": "code",
   "execution_count": 3,
   "metadata": {},
   "outputs": [
    {
     "name": "stdout",
     "output_type": "stream",
     "text": [
      "JupyterLab v2.2.6\n"
     ]
    },
    {
     "name": "stderr",
     "output_type": "stream",
     "text": [
      "   app dir: C:\\Users\\GFloresGonzalez\\AppData\\Local\\Continuum\\anaconda3\\share\\jupyter\\lab\n",
      "        @jupyter-widgets/jupyterlab-manager v2.0.0 enabled  ok\n",
      "        @jupyter-widgets/jupyterlab-sidecar v0.5.0 enabled  ok\n",
      "        bqplot v0.5.17 enabled  ok\n",
      "        ipycanvas v0.5.1 enabled  ok\n",
      "        ipysheet v0.4.4 enabled  ok\n",
      "        ipytree v0.1.8 enabled  ok"
     ]
    },
    {
     "name": "stdout",
     "output_type": "stream",
     "text": [
      "Known labextensions:\n"
     ]
    },
    {
     "name": "stderr",
     "output_type": "stream",
     "text": [
      "\n",
      "        ipyvolume v0.6.0-alpha.5 enabled  ok\n",
      "        jupyter-leaflet v0.12.6 enabled  ok\n",
      "        jupyter-matplotlib v0.7.4 enabled  ok\n",
      "        jupyter-threejs v2.2.0 enabled  ok\n",
      "        jupyter-vuetify v1.5.1 enabled  ok\n"
     ]
    }
   ],
   "source": [
    "!jupyter labextension list"
   ]
  },
  {
   "cell_type": "code",
   "execution_count": 4,
   "metadata": {},
   "outputs": [],
   "source": [
    "import pandas as pd\n",
    "import matplotlib.pyplot as plt\n",
    "from matplotlib.ticker import FuncFormatter\n",
    "import seaborn as sn\n",
    "import numpy as np\n",
    "from scipy.optimize import curve_fit\n",
    "import ipywidgets as widgets\n",
    "import ipympl\n",
    "sn.set()"
   ]
  },
  {
   "cell_type": "code",
   "execution_count": 5,
   "metadata": {
    "jupyter": {
     "source_hidden": true
    }
   },
   "outputs": [],
   "source": [
    "def func(x, a, b, c):\n",
    "    return a * pd.np.exp(-b * x) + c\n",
    "\n",
    "\n",
    "def millions(x, pos):\n",
    "    return '%1.1fM' % (x * 1e-6)\n",
    "\n",
    "formatter = FuncFormatter(millions)"
   ]
  },
  {
   "cell_type": "code",
   "execution_count": 6,
   "metadata": {
    "jupyter": {
     "source_hidden": true
    }
   },
   "outputs": [],
   "source": [
    "def create_week_grid(figure_size):\n",
    "    fig = plt.figure(constrained_layout=False, figsize=figure_size)\n",
    "    gs = fig.add_gridspec(3, 2)\n",
    "    fig_ax1 = fig.add_subplot(gs[0, 0])\n",
    "    fig_ax1.set_title('Monday')\n",
    "    f_ax2 = fig.add_subplot(gs[0, 1])\n",
    "    f_ax2.set_title('Tuesday')\n",
    "    f_ax3 = fig.add_subplot(gs[1, 0])\n",
    "    f_ax3.set_title('Wednesday')\n",
    "    f_ax4 = fig.add_subplot(gs[1, 1])\n",
    "    f_ax4.set_title('Thursday')\n",
    "    f_ax5 = fig.add_subplot(gs[-1, 0])\n",
    "    f_ax5.set_title('Friday')\n",
    "    f_ax6 = fig.add_subplot(gs[-1, -1])\n",
    "    f_ax6.set_title('All')\n",
    "    return fig\n",
    "\n",
    "def create_scatter_grid(field):\n",
    "    dic_vkws_pnl = dict()\n",
    "    fig2 = create_week_grid((12,12))\n",
    "    xp = np.linspace(-200, 500, 1000)\n",
    "    for i in range(len(lst_ret)):\n",
    "        x = df_1500[df_1500.day_name==day_list[i]][[field]] #volume\n",
    "        y = lst_ret[i] # return\n",
    "        temp_sn = pd.concat([x, y], axis=1).dropna()\n",
    "        dic_vkws_pnl[day_list[i]]=temp_sn\n",
    "        xdata = temp_sn.iloc[:, 0]\n",
    "        ydata = temp_sn.iloc[:, 1]\n",
    "        z = np.polyfit(xdata, ydata, 2)\n",
    "        p = np.poly1d(z)\n",
    "        popt, pcov = curve_fit(func, xdata, ydata, p0=[1, 0, 1], maxfev=5000)\n",
    "        sn.regplot(xdata,\n",
    "                   ydata,\n",
    "                   ax=fig2.axes[i],\n",
    "                   scatter_kws={'alpha': 0.25},\n",
    "                  robust=True)\n",
    "        g = sn.regplot(xdata,\n",
    "                   ydata,\n",
    "                   ax=fig2.axes[-1],\n",
    "                   scatter_kws={'alpha': 0.25},\n",
    "                    robust=True)\n",
    "        l2, = fig2.axes[i].plot(xp, p(xp), 'r-')\n",
    "        l3, = fig2.axes[i].plot(xp, func(xp, *popt), 'k--')\n",
    "        fig2.axes[i].set_title(day_list[i])\n",
    "        fig2.axes[i].legend((l2, l3), ('Quadratic fit', 'Exponential fit'), loc='best', shadow=True)\n",
    "\n",
    "    plt.setp(fig2.axes, ylim=(-0.075, 0.175))\n",
    "    plt.setp(g.axes, xlim=(-200,500), ylim=(-0.075, 0.175))\n",
    "    g.legend(day_list)                     \n",
    "\n",
    "    plt.tight_layout()\n",
    "    plt.show()\n",
    "    return dic_vkws_pnl"
   ]
  },
  {
   "cell_type": "code",
   "execution_count": 7,
   "metadata": {},
   "outputs": [],
   "source": [
    "# import warnings\n",
    "# warnings.filterwarnings('ignore')"
   ]
  },
  {
   "cell_type": "code",
   "execution_count": 8,
   "metadata": {},
   "outputs": [],
   "source": [
    "df_mt = pd.read_pickle('V:\\\\VPF\\\\Systematic Strategies\\\\VPF - Systematic Rankings\\\\New Strat\\GFG\\\\option_volume.pkl')\n",
    "df_full = pd.read_pickle('V:\\\\VPF\\\\Systematic Strategies\\\\VPF - Systematic Rankings\\\\New Strat\\GFG\\\\portfolio_returns_5D_6D.pkl')"
   ]
  },
  {
   "cell_type": "code",
   "execution_count": 9,
   "metadata": {
    "jupyter": {
     "source_hidden": true
    }
   },
   "outputs": [],
   "source": [
    "# data generation\n",
    "df_5d_f = df_full.groupby('Date')[['5d_pnl']].sum()\n",
    "mondays_f = df_5d_f.asfreq('W-Mon', method='pad')\n",
    "tuesdays_f = df_5d_f.asfreq('W-Tue', method='pad')\n",
    "wednesdays_f = df_5d_f.asfreq('W-Wed', method='pad')\n",
    "thursdays_f = df_5d_f.asfreq('W-Thu', method='pad')\n",
    "fridays_f = df_5d_f.asfreq('W-Fri', method='pad')\n",
    "\n",
    "lst_ret = [mondays_f,\n",
    "           tuesdays_f,\n",
    "           wednesdays_f,\n",
    "           thursdays_f,\n",
    "           fridays_f]\n",
    "\n",
    "monf = mondays_f.cumsum()\n",
    "tuef = tuesdays_f.cumsum()\n",
    "wedf = wednesdays_f.cumsum()\n",
    "thuf = thursdays_f.cumsum()\n",
    "frif = fridays_f.cumsum()\n",
    "\n",
    "df_ret5_f = pd.concat([mondays_f.reset_index()[['5d_pnl']],\n",
    "                       tuesdays_f.reset_index()[['5d_pnl']],\n",
    "                       wednesdays_f.reset_index()[['5d_pnl']],\n",
    "                       thursdays_f.reset_index()[['5d_pnl']],\n",
    "                       fridays_f.reset_index()[['5d_pnl']]],\n",
    "                      axis=1)\n",
    "\n",
    "df_main_f = pd.concat([monf.reset_index()[['5d_pnl']],\n",
    "                       tuef.reset_index()[['5d_pnl']],\n",
    "                       wedf.reset_index()[['5d_pnl']],\n",
    "                       thuf.reset_index()[['5d_pnl']],\n",
    "                       frif.reset_index()[['5d_pnl']]],\n",
    "                      axis=1)\n",
    "\n",
    "\n",
    "df_ret5_f.columns = ['mon', 'tue', 'wed', 'thu', 'fri']\n",
    "df_main_f.columns = ['mon', 'tue', 'wed', 'thu', 'fri']\n",
    "\n",
    "\n",
    "# %%\n",
    "df_6d_f = df_full.groupby('Date')[['6d_pnl']].sum()\n",
    "fridays_6f = df_6d_f.iloc[3::6, :]\n",
    "mondays_6f = df_6d_f.iloc[4::6, :]\n",
    "tuesdays_6f = df_6d_f.iloc[::6, :]\n",
    "wednesdays_6f = df_6d_f.iloc[1::6, :]\n",
    "thursdays_6f = df_6d_f.iloc[2::6, :]\n",
    "\n",
    "lst_ret6 = [mondays_6f,\n",
    "           tuesdays_6f,\n",
    "           wednesdays_6f,\n",
    "           thursdays_6f,\n",
    "           fridays_6f]\n",
    "\n",
    "mon6f = mondays_6f.cumsum()\n",
    "tue6f = tuesdays_6f.cumsum()\n",
    "wed6f = wednesdays_6f.cumsum()\n",
    "thu6f = thursdays_6f.cumsum()\n",
    "fri6f = fridays_6f.cumsum()\n",
    "\n",
    "df_ret6f = pd.concat([mondays_6f.reset_index()[['6d_pnl']],\n",
    "                      tuesdays_6f.reset_index()[['6d_pnl']],\n",
    "                      wednesdays_6f.reset_index()[['6d_pnl']],\n",
    "                      thursdays_6f.reset_index()[['6d_pnl']],\n",
    "                      fridays_6f.reset_index()[['6d_pnl']]], axis=1)\n",
    "\n",
    "df_main6f = pd.concat([mon6f.reset_index()[['6d_pnl']],\n",
    "                       tue6f.reset_index()[['6d_pnl']],\n",
    "                       wed6f.reset_index()[['6d_pnl']],\n",
    "                       thu6f.reset_index()[['6d_pnl']],\n",
    "                       fri6f.reset_index()[['6d_pnl']]], axis=1)\n",
    "\n",
    "df_main6f.columns = ['mon', 'tue', 'wed', 'thu', 'fri']\n",
    "df_ret6f.columns = ['mon', 'tue', 'wed', 'thu', 'fri']"
   ]
  },
  {
   "cell_type": "code",
   "execution_count": 10,
   "metadata": {},
   "outputs": [],
   "source": [
    "df_opt_volume = df_mt.groupby('Date')[['VWKS', 'VWKS_Call', 'VWKS_Put','VWKS_openInt']].sum()\n",
    "df_opt_volume.index = pd.to_datetime(df_opt_volume.index)\n",
    "df_opt_volume['day'] = df_opt_volume.index.dayofweek\n",
    "df_opt_volume['day_name'] = df_opt_volume.index.day_name()\n",
    "df_opt_volume['week'] = (df_opt_volume['day'].diff() < 0).cumsum()\n",
    "df_opt_volume_by_day = df_opt_volume.pivot('week', 'day_name', 'VWKS')"
   ]
  },
  {
   "cell_type": "markdown",
   "metadata": {},
   "source": [
    "## Results for the option Volume file with not filtering"
   ]
  },
  {
   "cell_type": "code",
   "execution_count": 11,
   "metadata": {},
   "outputs": [
    {
     "data": {
      "application/vnd.jupyter.widget-view+json": {
       "model_id": "6b973cbf83564cb999b6390e46d34ebd",
       "version_major": 2,
       "version_minor": 0
      },
      "text/plain": [
       "Canvas(toolbar=Toolbar(toolitems=[('Home', 'Reset original view', 'home', 'home'), ('Back', 'Back to previous …"
      ]
     },
     "metadata": {},
     "output_type": "display_data"
    }
   ],
   "source": [
    "fig, axs = plt.subplots(1,2, figsize=(15,6))\n",
    "sn.boxplot(data=df_opt_volume, \n",
    "           x='day_name', \n",
    "           y='VWKS', \n",
    "           order=['Monday','Tuesday','Wednesday','Thursday', 'Friday'],\n",
    "           ax = axs[0]);\n",
    "df_opt_volume_by_day.describe().drop('count')[\n",
    "    ['Monday','Tuesday','Wednesday','Thursday', 'Friday']].plot(kind='bar',\n",
    "                                                               ax=axs[1])\n",
    "plt.tight_layout()\n",
    "plt.show()\n"
   ]
  },
  {
   "cell_type": "markdown",
   "metadata": {},
   "source": [
    "The charts show how similar volume looks across days of the week. There is not a day that could be label as atypical. If we're trying to extract nuances, then we could argue that Option Volume is the highest at the start of the week and slowly decays throughout the week. Clearly option volume in a vacuum is not of interest to us if we do intersect with the Portofolio performance. \n",
    "\n",
    "Therefore, we first repeat the analysis using not the entire dataset but instead the SP1500 basket and then overlap with the Backtested Portfolio Performance"
   ]
  },
  {
   "cell_type": "code",
   "execution_count": 12,
   "metadata": {},
   "outputs": [],
   "source": [
    "# VWKS data from clarifi is already lagged\n",
    "df_1500 = pd.read_excel('V:\\\\VPF\\\\Systematic Strategies\\\\VPF - Systematic Rankings\\\\New Strat\\GFG\\\\vwks_sp1500.xlsx',\n",
    "                       index_col=0,\n",
    "                       parse_dates=True)\n",
    "df_1500.columns = ['VWKS','Call', 'Put', 'Delta']\n",
    "df_1500.index = pd.to_datetime(df_1500.index)\n",
    "# this dataset has an empty week that creates a problem with our week counter, so we need\n",
    "# to remove the date 9/10/2001\n",
    "df_1500 = df_1500.drop(pd.to_datetime('2001-09-10'))"
   ]
  },
  {
   "cell_type": "code",
   "execution_count": 13,
   "metadata": {},
   "outputs": [],
   "source": [
    "df_1500['day'] = df_1500.index.dayofweek\n",
    "df_1500['day_name'] = df_1500.index.day_name()\n",
    "df_1500['week'] = (df_1500['day'].diff() < 0).cumsum()\n",
    "df_1500_opt_volume_by_day = df_1500.pivot('week', 'day_name', 'VWKS')"
   ]
  },
  {
   "cell_type": "code",
   "execution_count": 14,
   "metadata": {},
   "outputs": [
    {
     "data": {
      "application/vnd.jupyter.widget-view+json": {
       "model_id": "0b625cc4f8664a9e803e300f11080f68",
       "version_major": 2,
       "version_minor": 0
      },
      "text/plain": [
       "Canvas(toolbar=Toolbar(toolitems=[('Home', 'Reset original view', 'home', 'home'), ('Back', 'Back to previous …"
      ]
     },
     "metadata": {},
     "output_type": "display_data"
    }
   ],
   "source": [
    "fig, axs = plt.subplots(1,2, figsize=(10,4))\n",
    "sn.boxplot(data=df_1500, \n",
    "           x='day_name', \n",
    "           y='VWKS', \n",
    "           order=['Monday','Tuesday','Wednesday','Thursday', 'Friday'],\n",
    "           ax = axs[0]);\n",
    "df_1500_opt_volume_by_day.describe().drop('count')[\n",
    "    ['Monday','Tuesday','Wednesday','Thursday', 'Friday']].plot(kind='bar',\n",
    "                                                               ax=axs[1])\n",
    "plt.tight_layout()\n",
    "plt.show()\n"
   ]
  },
  {
   "cell_type": "markdown",
   "metadata": {},
   "source": [
    "1 3 5 years"
   ]
  },
  {
   "cell_type": "markdown",
   "metadata": {},
   "source": [
    "Reminder, the VWKS is a volume-weighted average of the normalized K/S ratio, so positive numbers mean bullish expectations (OTM calls 'S<K', or ITM puts) and conversely negative VWKS reflects a more bearish outlook on the stock.\n",
    "\n",
    "From the bar plots we can clearly see that there's an asymmetry for the VWKS distribution, where the min is much closer to zero than the max. Let's try to see a histogram on the VWKS scores to see in more detail:"
   ]
  },
  {
   "cell_type": "code",
   "execution_count": 15,
   "metadata": {},
   "outputs": [
    {
     "data": {
      "application/vnd.jupyter.widget-view+json": {
       "model_id": "af92126c742f4be48a7a67a08318a172",
       "version_major": 2,
       "version_minor": 0
      },
      "text/plain": [
       "Canvas(toolbar=Toolbar(toolitems=[('Home', 'Reset original view', 'home', 'home'), ('Back', 'Back to previous …"
      ]
     },
     "metadata": {},
     "output_type": "display_data"
    }
   ],
   "source": [
    "fig = create_week_grid((15,15))\n",
    "\n",
    "day_list = ['Monday', 'Tuesday', 'Wednesday', 'Thursday', 'Friday']\n",
    "for i, d in enumerate(day_list):\n",
    "    df_1500[df_1500.day_name==d][['VWKS']].plot(kind='hist',\n",
    "                                                ax=fig.axes[i],\n",
    "                                                bins=50,\n",
    "                                                legend=False);\n",
    "#     ax2 = df_1500[df_1500.day_name==d][['VWKS']].plot.kde(ax=fig.axes[i],\n",
    "#                                                           secondary_y=True,\n",
    "#                                                           legend=False)\n",
    "#     ax2.set_ylim(0)\n",
    "    fig.axes[i].set_title(d)\n",
    "    fig.axes[i].set_ylabel('')\n",
    "df_1500[['VWKS']].plot(kind='hist',\n",
    "                       ax=fig.axes[-1],\n",
    "                       bins=50,\n",
    "                       title='All days',\n",
    "                       legend=False);\n",
    "plt.tight_layout()\n",
    "plt.show()"
   ]
  },
  {
   "cell_type": "markdown",
   "metadata": {},
   "source": [
    "The asymmetry is clearly confirmed on a weekday level and at the general level. We could quantize it with kurthosis but seems like overkill as of now.\n",
    "\n",
    "Next, we would like to see how the VWKS interacts with our portfolio performance. So we create the joined dataset and explore:\n",
    "\n",
    "Fist step, Robust OLS using VWKS to explain Performance:"
   ]
  },
  {
   "cell_type": "code",
   "execution_count": 16,
   "metadata": {},
   "outputs": [
    {
     "data": {
      "application/vnd.jupyter.widget-view+json": {
       "model_id": "13397542b5484b819a029ee2f9c34f18",
       "version_major": 2,
       "version_minor": 0
      },
      "text/plain": [
       "Canvas(toolbar=Toolbar(toolitems=[('Home', 'Reset original view', 'home', 'home'), ('Back', 'Back to previous …"
      ]
     },
     "metadata": {},
     "output_type": "display_data"
    },
    {
     "name": "stderr",
     "output_type": "stream",
     "text": [
      "C:\\Users\\GFloresGonzalez\\AppData\\Local\\Continuum\\anaconda3\\lib\\site-packages\\ipykernel_launcher.py:2: FutureWarning: The pandas.np module is deprecated and will be removed from pandas in a future version. Import numpy directly instead\n",
      "  \n",
      "C:\\Users\\GFloresGonzalez\\AppData\\Roaming\\Python\\Python37\\site-packages\\seaborn\\_decorators.py:43: FutureWarning: Pass the following variables as keyword args: x, y. From version 0.12, the only valid positional argument will be `data`, and passing other arguments without an explicit keyword will result in an error or misinterpretation.\n",
      "  FutureWarning\n",
      "C:\\Users\\GFloresGonzalez\\AppData\\Roaming\\Python\\Python37\\site-packages\\seaborn\\_decorators.py:43: FutureWarning: Pass the following variables as keyword args: x, y. From version 0.12, the only valid positional argument will be `data`, and passing other arguments without an explicit keyword will result in an error or misinterpretation.\n",
      "  FutureWarning\n",
      "C:\\Users\\GFloresGonzalez\\AppData\\Local\\Continuum\\anaconda3\\lib\\site-packages\\ipykernel_launcher.py:2: FutureWarning: The pandas.np module is deprecated and will be removed from pandas in a future version. Import numpy directly instead\n",
      "  \n",
      "C:\\Users\\GFloresGonzalez\\AppData\\Local\\Continuum\\anaconda3\\lib\\site-packages\\ipykernel_launcher.py:2: FutureWarning: The pandas.np module is deprecated and will be removed from pandas in a future version. Import numpy directly instead\n",
      "  \n",
      "C:\\Users\\GFloresGonzalez\\AppData\\Roaming\\Python\\Python37\\site-packages\\seaborn\\_decorators.py:43: FutureWarning: Pass the following variables as keyword args: x, y. From version 0.12, the only valid positional argument will be `data`, and passing other arguments without an explicit keyword will result in an error or misinterpretation.\n",
      "  FutureWarning\n",
      "C:\\Users\\GFloresGonzalez\\AppData\\Roaming\\Python\\Python37\\site-packages\\seaborn\\_decorators.py:43: FutureWarning: Pass the following variables as keyword args: x, y. From version 0.12, the only valid positional argument will be `data`, and passing other arguments without an explicit keyword will result in an error or misinterpretation.\n",
      "  FutureWarning\n",
      "C:\\Users\\GFloresGonzalez\\AppData\\Local\\Continuum\\anaconda3\\lib\\site-packages\\ipykernel_launcher.py:2: FutureWarning: The pandas.np module is deprecated and will be removed from pandas in a future version. Import numpy directly instead\n",
      "  \n",
      "C:\\Users\\GFloresGonzalez\\AppData\\Local\\Continuum\\anaconda3\\lib\\site-packages\\ipykernel_launcher.py:2: FutureWarning: The pandas.np module is deprecated and will be removed from pandas in a future version. Import numpy directly instead\n",
      "  \n",
      "C:\\Users\\GFloresGonzalez\\AppData\\Roaming\\Python\\Python37\\site-packages\\seaborn\\_decorators.py:43: FutureWarning: Pass the following variables as keyword args: x, y. From version 0.12, the only valid positional argument will be `data`, and passing other arguments without an explicit keyword will result in an error or misinterpretation.\n",
      "  FutureWarning\n",
      "C:\\Users\\GFloresGonzalez\\AppData\\Roaming\\Python\\Python37\\site-packages\\seaborn\\_decorators.py:43: FutureWarning: Pass the following variables as keyword args: x, y. From version 0.12, the only valid positional argument will be `data`, and passing other arguments without an explicit keyword will result in an error or misinterpretation.\n",
      "  FutureWarning\n",
      "C:\\Users\\GFloresGonzalez\\AppData\\Local\\Continuum\\anaconda3\\lib\\site-packages\\ipykernel_launcher.py:2: FutureWarning: The pandas.np module is deprecated and will be removed from pandas in a future version. Import numpy directly instead\n",
      "  \n",
      "C:\\Users\\GFloresGonzalez\\AppData\\Local\\Continuum\\anaconda3\\lib\\site-packages\\ipykernel_launcher.py:2: FutureWarning: The pandas.np module is deprecated and will be removed from pandas in a future version. Import numpy directly instead\n",
      "  \n",
      "C:\\Users\\GFloresGonzalez\\AppData\\Roaming\\Python\\Python37\\site-packages\\seaborn\\_decorators.py:43: FutureWarning: Pass the following variables as keyword args: x, y. From version 0.12, the only valid positional argument will be `data`, and passing other arguments without an explicit keyword will result in an error or misinterpretation.\n",
      "  FutureWarning\n",
      "C:\\Users\\GFloresGonzalez\\AppData\\Roaming\\Python\\Python37\\site-packages\\seaborn\\_decorators.py:43: FutureWarning: Pass the following variables as keyword args: x, y. From version 0.12, the only valid positional argument will be `data`, and passing other arguments without an explicit keyword will result in an error or misinterpretation.\n",
      "  FutureWarning\n",
      "C:\\Users\\GFloresGonzalez\\AppData\\Local\\Continuum\\anaconda3\\lib\\site-packages\\ipykernel_launcher.py:2: FutureWarning: The pandas.np module is deprecated and will be removed from pandas in a future version. Import numpy directly instead\n",
      "  \n",
      "C:\\Users\\GFloresGonzalez\\AppData\\Local\\Continuum\\anaconda3\\lib\\site-packages\\ipykernel_launcher.py:2: FutureWarning: The pandas.np module is deprecated and will be removed from pandas in a future version. Import numpy directly instead\n",
      "  \n",
      "C:\\Users\\GFloresGonzalez\\AppData\\Roaming\\Python\\Python37\\site-packages\\seaborn\\_decorators.py:43: FutureWarning: Pass the following variables as keyword args: x, y. From version 0.12, the only valid positional argument will be `data`, and passing other arguments without an explicit keyword will result in an error or misinterpretation.\n",
      "  FutureWarning\n",
      "C:\\Users\\GFloresGonzalez\\AppData\\Roaming\\Python\\Python37\\site-packages\\seaborn\\_decorators.py:43: FutureWarning: Pass the following variables as keyword args: x, y. From version 0.12, the only valid positional argument will be `data`, and passing other arguments without an explicit keyword will result in an error or misinterpretation.\n",
      "  FutureWarning\n",
      "C:\\Users\\GFloresGonzalez\\AppData\\Local\\Continuum\\anaconda3\\lib\\site-packages\\ipykernel_launcher.py:2: FutureWarning: The pandas.np module is deprecated and will be removed from pandas in a future version. Import numpy directly instead\n",
      "  \n"
     ]
    }
   ],
   "source": [
    "# %% regplots\n",
    "df_vwks = create_scatter_grid('VWKS')"
   ]
  },
  {
   "cell_type": "code",
   "execution_count": 17,
   "metadata": {
    "scrolled": true
   },
   "outputs": [
    {
     "data": {
      "application/vnd.jupyter.widget-view+json": {
       "model_id": "72f7c7a8402249818851f87304501eb5",
       "version_major": 2,
       "version_minor": 0
      },
      "text/plain": [
       "Canvas(toolbar=Toolbar(toolitems=[('Home', 'Reset original view', 'home', 'home'), ('Back', 'Back to previous …"
      ]
     },
     "metadata": {},
     "output_type": "display_data"
    },
    {
     "name": "stderr",
     "output_type": "stream",
     "text": [
      "C:\\Users\\GFloresGonzalez\\AppData\\Local\\Continuum\\anaconda3\\lib\\site-packages\\ipykernel_launcher.py:2: FutureWarning: The pandas.np module is deprecated and will be removed from pandas in a future version. Import numpy directly instead\n",
      "  \n",
      "C:\\Users\\GFloresGonzalez\\AppData\\Roaming\\Python\\Python37\\site-packages\\seaborn\\_decorators.py:43: FutureWarning: Pass the following variables as keyword args: x, y. From version 0.12, the only valid positional argument will be `data`, and passing other arguments without an explicit keyword will result in an error or misinterpretation.\n",
      "  FutureWarning\n",
      "C:\\Users\\GFloresGonzalez\\AppData\\Roaming\\Python\\Python37\\site-packages\\seaborn\\_decorators.py:43: FutureWarning: Pass the following variables as keyword args: x, y. From version 0.12, the only valid positional argument will be `data`, and passing other arguments without an explicit keyword will result in an error or misinterpretation.\n",
      "  FutureWarning\n",
      "C:\\Users\\GFloresGonzalez\\AppData\\Local\\Continuum\\anaconda3\\lib\\site-packages\\ipykernel_launcher.py:2: FutureWarning: The pandas.np module is deprecated and will be removed from pandas in a future version. Import numpy directly instead\n",
      "  \n",
      "C:\\Users\\GFloresGonzalez\\AppData\\Local\\Continuum\\anaconda3\\lib\\site-packages\\ipykernel_launcher.py:2: FutureWarning: The pandas.np module is deprecated and will be removed from pandas in a future version. Import numpy directly instead\n",
      "  \n",
      "C:\\Users\\GFloresGonzalez\\AppData\\Roaming\\Python\\Python37\\site-packages\\seaborn\\_decorators.py:43: FutureWarning: Pass the following variables as keyword args: x, y. From version 0.12, the only valid positional argument will be `data`, and passing other arguments without an explicit keyword will result in an error or misinterpretation.\n",
      "  FutureWarning\n",
      "C:\\Users\\GFloresGonzalez\\AppData\\Roaming\\Python\\Python37\\site-packages\\seaborn\\_decorators.py:43: FutureWarning: Pass the following variables as keyword args: x, y. From version 0.12, the only valid positional argument will be `data`, and passing other arguments without an explicit keyword will result in an error or misinterpretation.\n",
      "  FutureWarning\n",
      "C:\\Users\\GFloresGonzalez\\AppData\\Local\\Continuum\\anaconda3\\lib\\site-packages\\ipykernel_launcher.py:2: FutureWarning: The pandas.np module is deprecated and will be removed from pandas in a future version. Import numpy directly instead\n",
      "  \n",
      "C:\\Users\\GFloresGonzalez\\AppData\\Local\\Continuum\\anaconda3\\lib\\site-packages\\ipykernel_launcher.py:2: FutureWarning: The pandas.np module is deprecated and will be removed from pandas in a future version. Import numpy directly instead\n",
      "  \n",
      "C:\\Users\\GFloresGonzalez\\AppData\\Roaming\\Python\\Python37\\site-packages\\seaborn\\_decorators.py:43: FutureWarning: Pass the following variables as keyword args: x, y. From version 0.12, the only valid positional argument will be `data`, and passing other arguments without an explicit keyword will result in an error or misinterpretation.\n",
      "  FutureWarning\n",
      "C:\\Users\\GFloresGonzalez\\AppData\\Roaming\\Python\\Python37\\site-packages\\seaborn\\_decorators.py:43: FutureWarning: Pass the following variables as keyword args: x, y. From version 0.12, the only valid positional argument will be `data`, and passing other arguments without an explicit keyword will result in an error or misinterpretation.\n",
      "  FutureWarning\n",
      "C:\\Users\\GFloresGonzalez\\AppData\\Local\\Continuum\\anaconda3\\lib\\site-packages\\ipykernel_launcher.py:2: FutureWarning: The pandas.np module is deprecated and will be removed from pandas in a future version. Import numpy directly instead\n",
      "  \n",
      "C:\\Users\\GFloresGonzalez\\AppData\\Local\\Continuum\\anaconda3\\lib\\site-packages\\ipykernel_launcher.py:2: FutureWarning: The pandas.np module is deprecated and will be removed from pandas in a future version. Import numpy directly instead\n",
      "  \n",
      "C:\\Users\\GFloresGonzalez\\AppData\\Roaming\\Python\\Python37\\site-packages\\seaborn\\_decorators.py:43: FutureWarning: Pass the following variables as keyword args: x, y. From version 0.12, the only valid positional argument will be `data`, and passing other arguments without an explicit keyword will result in an error or misinterpretation.\n",
      "  FutureWarning\n",
      "C:\\Users\\GFloresGonzalez\\AppData\\Roaming\\Python\\Python37\\site-packages\\seaborn\\_decorators.py:43: FutureWarning: Pass the following variables as keyword args: x, y. From version 0.12, the only valid positional argument will be `data`, and passing other arguments without an explicit keyword will result in an error or misinterpretation.\n",
      "  FutureWarning\n",
      "C:\\Users\\GFloresGonzalez\\AppData\\Local\\Continuum\\anaconda3\\lib\\site-packages\\ipykernel_launcher.py:2: FutureWarning: The pandas.np module is deprecated and will be removed from pandas in a future version. Import numpy directly instead\n",
      "  \n",
      "C:\\Users\\GFloresGonzalez\\AppData\\Local\\Continuum\\anaconda3\\lib\\site-packages\\ipykernel_launcher.py:2: FutureWarning: The pandas.np module is deprecated and will be removed from pandas in a future version. Import numpy directly instead\n",
      "  \n",
      "C:\\Users\\GFloresGonzalez\\AppData\\Roaming\\Python\\Python37\\site-packages\\seaborn\\_decorators.py:43: FutureWarning: Pass the following variables as keyword args: x, y. From version 0.12, the only valid positional argument will be `data`, and passing other arguments without an explicit keyword will result in an error or misinterpretation.\n",
      "  FutureWarning\n",
      "C:\\Users\\GFloresGonzalez\\AppData\\Roaming\\Python\\Python37\\site-packages\\seaborn\\_decorators.py:43: FutureWarning: Pass the following variables as keyword args: x, y. From version 0.12, the only valid positional argument will be `data`, and passing other arguments without an explicit keyword will result in an error or misinterpretation.\n",
      "  FutureWarning\n",
      "C:\\Users\\GFloresGonzalez\\AppData\\Local\\Continuum\\anaconda3\\lib\\site-packages\\ipykernel_launcher.py:2: FutureWarning: The pandas.np module is deprecated and will be removed from pandas in a future version. Import numpy directly instead\n",
      "  \n"
     ]
    }
   ],
   "source": [
    "df_call = create_scatter_grid('Call')"
   ]
  },
  {
   "cell_type": "code",
   "execution_count": 18,
   "metadata": {
    "scrolled": true
   },
   "outputs": [
    {
     "data": {
      "application/vnd.jupyter.widget-view+json": {
       "model_id": "1cb5950f548340fa97579c736fadf27d",
       "version_major": 2,
       "version_minor": 0
      },
      "text/plain": [
       "Canvas(toolbar=Toolbar(toolitems=[('Home', 'Reset original view', 'home', 'home'), ('Back', 'Back to previous …"
      ]
     },
     "metadata": {},
     "output_type": "display_data"
    },
    {
     "name": "stderr",
     "output_type": "stream",
     "text": [
      "C:\\Users\\GFloresGonzalez\\AppData\\Local\\Continuum\\anaconda3\\lib\\site-packages\\ipykernel_launcher.py:2: FutureWarning: The pandas.np module is deprecated and will be removed from pandas in a future version. Import numpy directly instead\n",
      "  \n",
      "C:\\Users\\GFloresGonzalez\\AppData\\Roaming\\Python\\Python37\\site-packages\\seaborn\\_decorators.py:43: FutureWarning: Pass the following variables as keyword args: x, y. From version 0.12, the only valid positional argument will be `data`, and passing other arguments without an explicit keyword will result in an error or misinterpretation.\n",
      "  FutureWarning\n",
      "C:\\Users\\GFloresGonzalez\\AppData\\Roaming\\Python\\Python37\\site-packages\\seaborn\\_decorators.py:43: FutureWarning: Pass the following variables as keyword args: x, y. From version 0.12, the only valid positional argument will be `data`, and passing other arguments without an explicit keyword will result in an error or misinterpretation.\n",
      "  FutureWarning\n",
      "C:\\Users\\GFloresGonzalez\\AppData\\Local\\Continuum\\anaconda3\\lib\\site-packages\\ipykernel_launcher.py:2: FutureWarning: The pandas.np module is deprecated and will be removed from pandas in a future version. Import numpy directly instead\n",
      "  \n",
      "C:\\Users\\GFloresGonzalez\\AppData\\Local\\Continuum\\anaconda3\\lib\\site-packages\\ipykernel_launcher.py:2: FutureWarning: The pandas.np module is deprecated and will be removed from pandas in a future version. Import numpy directly instead\n",
      "  \n",
      "C:\\Users\\GFloresGonzalez\\AppData\\Roaming\\Python\\Python37\\site-packages\\seaborn\\_decorators.py:43: FutureWarning: Pass the following variables as keyword args: x, y. From version 0.12, the only valid positional argument will be `data`, and passing other arguments without an explicit keyword will result in an error or misinterpretation.\n",
      "  FutureWarning\n",
      "C:\\Users\\GFloresGonzalez\\AppData\\Roaming\\Python\\Python37\\site-packages\\seaborn\\_decorators.py:43: FutureWarning: Pass the following variables as keyword args: x, y. From version 0.12, the only valid positional argument will be `data`, and passing other arguments without an explicit keyword will result in an error or misinterpretation.\n",
      "  FutureWarning\n",
      "C:\\Users\\GFloresGonzalez\\AppData\\Local\\Continuum\\anaconda3\\lib\\site-packages\\ipykernel_launcher.py:2: FutureWarning: The pandas.np module is deprecated and will be removed from pandas in a future version. Import numpy directly instead\n",
      "  \n",
      "C:\\Users\\GFloresGonzalez\\AppData\\Local\\Continuum\\anaconda3\\lib\\site-packages\\ipykernel_launcher.py:2: FutureWarning: The pandas.np module is deprecated and will be removed from pandas in a future version. Import numpy directly instead\n",
      "  \n",
      "C:\\Users\\GFloresGonzalez\\AppData\\Roaming\\Python\\Python37\\site-packages\\seaborn\\_decorators.py:43: FutureWarning: Pass the following variables as keyword args: x, y. From version 0.12, the only valid positional argument will be `data`, and passing other arguments without an explicit keyword will result in an error or misinterpretation.\n",
      "  FutureWarning\n",
      "C:\\Users\\GFloresGonzalez\\AppData\\Roaming\\Python\\Python37\\site-packages\\seaborn\\_decorators.py:43: FutureWarning: Pass the following variables as keyword args: x, y. From version 0.12, the only valid positional argument will be `data`, and passing other arguments without an explicit keyword will result in an error or misinterpretation.\n",
      "  FutureWarning\n",
      "C:\\Users\\GFloresGonzalez\\AppData\\Local\\Continuum\\anaconda3\\lib\\site-packages\\ipykernel_launcher.py:2: FutureWarning: The pandas.np module is deprecated and will be removed from pandas in a future version. Import numpy directly instead\n",
      "  \n",
      "C:\\Users\\GFloresGonzalez\\AppData\\Local\\Continuum\\anaconda3\\lib\\site-packages\\ipykernel_launcher.py:2: FutureWarning: The pandas.np module is deprecated and will be removed from pandas in a future version. Import numpy directly instead\n",
      "  \n",
      "C:\\Users\\GFloresGonzalez\\AppData\\Roaming\\Python\\Python37\\site-packages\\seaborn\\_decorators.py:43: FutureWarning: Pass the following variables as keyword args: x, y. From version 0.12, the only valid positional argument will be `data`, and passing other arguments without an explicit keyword will result in an error or misinterpretation.\n",
      "  FutureWarning\n",
      "C:\\Users\\GFloresGonzalez\\AppData\\Roaming\\Python\\Python37\\site-packages\\seaborn\\_decorators.py:43: FutureWarning: Pass the following variables as keyword args: x, y. From version 0.12, the only valid positional argument will be `data`, and passing other arguments without an explicit keyword will result in an error or misinterpretation.\n",
      "  FutureWarning\n",
      "C:\\Users\\GFloresGonzalez\\AppData\\Local\\Continuum\\anaconda3\\lib\\site-packages\\ipykernel_launcher.py:2: FutureWarning: The pandas.np module is deprecated and will be removed from pandas in a future version. Import numpy directly instead\n",
      "  \n",
      "C:\\Users\\GFloresGonzalez\\AppData\\Local\\Continuum\\anaconda3\\lib\\site-packages\\ipykernel_launcher.py:2: FutureWarning: The pandas.np module is deprecated and will be removed from pandas in a future version. Import numpy directly instead\n",
      "  \n",
      "C:\\Users\\GFloresGonzalez\\AppData\\Roaming\\Python\\Python37\\site-packages\\seaborn\\_decorators.py:43: FutureWarning: Pass the following variables as keyword args: x, y. From version 0.12, the only valid positional argument will be `data`, and passing other arguments without an explicit keyword will result in an error or misinterpretation.\n",
      "  FutureWarning\n",
      "C:\\Users\\GFloresGonzalez\\AppData\\Roaming\\Python\\Python37\\site-packages\\seaborn\\_decorators.py:43: FutureWarning: Pass the following variables as keyword args: x, y. From version 0.12, the only valid positional argument will be `data`, and passing other arguments without an explicit keyword will result in an error or misinterpretation.\n",
      "  FutureWarning\n",
      "C:\\Users\\GFloresGonzalez\\AppData\\Local\\Continuum\\anaconda3\\lib\\site-packages\\ipykernel_launcher.py:2: FutureWarning: The pandas.np module is deprecated and will be removed from pandas in a future version. Import numpy directly instead\n",
      "  \n"
     ]
    }
   ],
   "source": [
    "df_put = create_scatter_grid('Put')"
   ]
  },
  {
   "cell_type": "markdown",
   "metadata": {},
   "source": [
    "### How does the VWKS and 5D pnl averages look by day of the week?"
   ]
  },
  {
   "cell_type": "code",
   "execution_count": 19,
   "metadata": {},
   "outputs": [
    {
     "data": {
      "image/png": "[encoded data removed]",
      "text/plain": [
       "<Figure size 1008x288 with 2 Axes>"
      ]
     },
     "metadata": {},
     "output_type": "display_data"
    }
   ],
   "source": [
    "%matplotlib inline\n",
    "sn.set_style(\"darkgrid\", {'axes.grid' : False})\n",
    "df_summary = pd.DataFrame.from_dict({ k: v.mean() for k, v in df_vwks.items()})\n",
    "axs = df_summary.T.plot(kind='bar',\n",
    "                       secondary_y =['5d_pnl'],\n",
    "                       figsize=(14,4))\n",
    "axs.legend(bbox_to_anchor=(1.175,1))\n",
    "plt.legend(bbox_to_anchor=(1.175,0.9))\n",
    "axs.set_ylabel('VWKS')\n",
    "axs.right_ax.set_ylabel('Pnl')\n",
    "axs.right_ax.set_ylim((0.0035,0.004))\n",
    "plt.title('Average Values by Day, FULL')\n",
    "plt.show()\n",
    "sn.set_style(\"darkgrid\", {'axes.grid' : True})"
   ]
  },
  {
   "cell_type": "code",
   "execution_count": 20,
   "metadata": {},
   "outputs": [
    {
     "data": {
      "image/png": "[encoded data removed]",
      "text/plain": [
       "<Figure size 1008x288 with 2 Axes>"
      ]
     },
     "metadata": {},
     "output_type": "display_data"
    }
   ],
   "source": [
    "sn.set_style(\"darkgrid\", {'axes.grid' : False})\n",
    "df_summary = pd.DataFrame.from_dict({ k: v.mean() for k, v in df_call.items()})\n",
    "axs = df_summary.T.plot(kind='bar',\n",
    "                       secondary_y =['5d_pnl'],\n",
    "                       figsize=(14,4))\n",
    "axs.legend(bbox_to_anchor=(1.175,1))\n",
    "plt.legend(bbox_to_anchor=(1.175,0.9))\n",
    "axs.set_ylabel('Call VWKS')\n",
    "axs.right_ax.set_ylabel('Pnl')\n",
    "axs.right_ax.set_ylim((0.0035,0.004))\n",
    "plt.title('Average Values by Day, CALLS')\n",
    "plt.show()\n",
    "sn.set_style(\"darkgrid\", {'axes.grid' : True})"
   ]
  },
  {
   "cell_type": "code",
   "execution_count": 21,
   "metadata": {},
   "outputs": [
    {
     "data": {
      "image/png": "[encoded data removed]",
      "text/plain": [
       "<Figure size 1008x288 with 2 Axes>"
      ]
     },
     "metadata": {},
     "output_type": "display_data"
    }
   ],
   "source": [
    "sn.set_style(\"darkgrid\", {'axes.grid' : False})\n",
    "df_summary = pd.DataFrame.from_dict({ k: v.mean() for k, v in df_put.items()})\n",
    "axs = df_summary.T.plot(kind='bar',\n",
    "                       secondary_y =['5d_pnl'],\n",
    "                       figsize=(14,4))\n",
    "axs.legend(bbox_to_anchor=(1.175,1))\n",
    "plt.legend(bbox_to_anchor=(1.175,0.9))\n",
    "axs.set_ylabel('Put VWKS')\n",
    "axs.right_ax.set_ylabel('Pnl')\n",
    "axs.right_ax.set_ylim((0.0035,0.004))\n",
    "plt.title('Average Values by Day, PUTS')\n",
    "plt.show()\n",
    "sn.set_style(\"darkgrid\", {'axes.grid' : True})"
   ]
  },
  {
   "cell_type": "code",
   "execution_count": 22,
   "metadata": {
    "jupyter": {
     "source_hidden": true
    }
   },
   "outputs": [
    {
     "data": {
      "application/vnd.jupyter.widget-view+json": {
       "model_id": "d5fd458546c940e3aed104748e281bcc",
       "version_major": 2,
       "version_minor": 0
      },
      "text/plain": [
       "Tab(children=(Output(), Output(), Output()), _titles={'0': 'Full', '1': 'Call', '2': 'Put'})"
      ]
     },
     "metadata": {},
     "output_type": "display_data"
    }
   ],
   "source": [
    "out1 = widgets.Output()\n",
    "out2 = widgets.Output()\n",
    "out3 = widgets.Output()\n",
    "\n",
    "tab = widgets.Tab(children = [out1, out2, out3])\n",
    "tab.set_title(0, 'Full')\n",
    "tab.set_title(1, 'Call')\n",
    "tab.set_title(2, 'Put')\n",
    "data1 = pd.DataFrame(np.random.normal(size = 50))\n",
    "display(tab)\n",
    "\n",
    "with out1:\n",
    "    sn.set_style(\"darkgrid\", {'axes.grid' : False})\n",
    "    df_summary = pd.DataFrame.from_dict({ k: v.mean() for k, v in df_vwks.items()})\n",
    "    axs = df_summary.T.plot(kind='bar',\n",
    "                           secondary_y =['5d_pnl'],\n",
    "                           figsize=(14,4))\n",
    "    axs.legend(bbox_to_anchor=(1.175,1))\n",
    "    plt.legend(bbox_to_anchor=(1.175,0.9))\n",
    "    axs.set_ylabel('VWKS')\n",
    "    axs.right_ax.set_ylabel('Pnl')\n",
    "    axs.right_ax.set_ylim((0.0035,0.004))\n",
    "    plt.title('Average Values by Day, FULL')\n",
    "    plt.show()\n",
    "    \n",
    "\n",
    "with out2:\n",
    "    sn.set_style(\"darkgrid\", {'axes.grid' : False})\n",
    "    df_summary = pd.DataFrame.from_dict({ k: v.mean() for k, v in df_call.items()})\n",
    "    axs = df_summary.T.plot(kind='bar',\n",
    "                           secondary_y =['5d_pnl'],\n",
    "                           figsize=(14,4))\n",
    "    axs.legend(bbox_to_anchor=(1.175,1))\n",
    "    plt.legend(bbox_to_anchor=(1.175,0.9))\n",
    "    axs.set_ylabel('Call VWKS')\n",
    "    axs.right_ax.set_ylabel('Pnl')\n",
    "    axs.right_ax.set_ylim((0.0035,0.004))\n",
    "    plt.title('Average Values by Day, CALLS')\n",
    "    plt.show()\n",
    "    sn.set_style(\"darkgrid\", {'axes.grid' : True})\n",
    "    \n",
    "with out3:\n",
    "    sn.set_style(\"darkgrid\", {'axes.grid' : False})\n",
    "    df_summary = pd.DataFrame.from_dict({ k: abs(v.mean()) for k, v in df_put.items()})\n",
    "    axs = df_summary.T.plot(kind='bar',\n",
    "                           secondary_y =['5d_pnl'],\n",
    "                           figsize=(14,4))\n",
    "    axs.legend(bbox_to_anchor=(1.175,1))\n",
    "    plt.legend(bbox_to_anchor=(1.175,0.9))\n",
    "    axs.set_ylabel('(abs.) Put VWKS')\n",
    "    axs.right_ax.set_ylabel('Pnl')\n",
    "    axs.set_ylim((0,18))\n",
    "    axs.right_ax.set_ylim((0.0035,0.004))\n",
    "    plt.title('Average Values by Day, PUTS')\n",
    "    plt.show()\n",
    "    sn.set_style(\"darkgrid\", {'axes.grid' : True})"
   ]
  },
  {
   "cell_type": "markdown",
   "metadata": {},
   "source": [
    "## how does it look since feb 2019?"
   ]
  },
  {
   "cell_type": "code",
   "execution_count": 24,
   "metadata": {},
   "outputs": [
    {
     "data": {
      "application/vnd.jupyter.widget-view+json": {
       "model_id": "c6c6cad2d6c34aec9e5bb1e51e5a35ce",
       "version_major": 2,
       "version_minor": 0
      },
      "text/plain": [
       "Tab(children=(Output(), Output(), Output()), _titles={'0': 'Full', '1': 'Call', '2': 'Put'})"
      ]
     },
     "metadata": {},
     "output_type": "display_data"
    }
   ],
   "source": [
    "start_date= '2019-02-01'\n",
    "out1 = widgets.Output()\n",
    "out2 = widgets.Output()\n",
    "out3 = widgets.Output()\n",
    "\n",
    "tab = widgets.Tab(children = [out1, out2, out3])\n",
    "tab.set_title(0, 'Full')\n",
    "tab.set_title(1, 'Call')\n",
    "tab.set_title(2, 'Put')\n",
    "data1 = pd.DataFrame(np.random.normal(size = 50))\n",
    "display(tab)\n",
    "\n",
    "with out1:\n",
    "    sn.set_style(\"darkgrid\", {'axes.grid' : False})\n",
    "    df_summary = pd.DataFrame.from_dict({ k: v[start_date:].mean() for k, v in df_vwks.items()})\n",
    "    axs = df_summary.T.plot(kind='bar',\n",
    "                           secondary_y =['5d_pnl'],\n",
    "                           figsize=(14,4))\n",
    "    axs.legend(bbox_to_anchor=(1.175,1))\n",
    "    plt.legend(bbox_to_anchor=(1.175,0.9))\n",
    "    axs.set_ylabel('VWKS')\n",
    "    axs.right_ax.set_ylabel('Pnl')\n",
    "#     axs.right_ax.set_ylim((0.0035,0.004))\n",
    "    plt.title('Average Values by Day, FULL')\n",
    "    plt.show()\n",
    "    \n",
    "\n",
    "with out2:\n",
    "    sn.set_style(\"darkgrid\", {'axes.grid' : False})\n",
    "    df_summary = pd.DataFrame.from_dict({ k: v[start_date:].mean() for k, v in df_call.items()})\n",
    "    axs = df_summary.T.plot(kind='bar',\n",
    "                           secondary_y =['5d_pnl'],\n",
    "                           figsize=(14,4))\n",
    "    axs.legend(bbox_to_anchor=(1.175,1))\n",
    "    plt.legend(bbox_to_anchor=(1.175,0.9))\n",
    "    axs.set_ylabel('Call VWKS')\n",
    "    axs.right_ax.set_ylabel('Pnl')\n",
    "#     axs.right_ax.set_ylim((0.0035,0.004))\n",
    "    plt.title('Average Values by Day, CALLS')\n",
    "    plt.show()\n",
    "    sn.set_style(\"darkgrid\", {'axes.grid' : True})\n",
    "    \n",
    "with out3:\n",
    "    sn.set_style(\"darkgrid\", {'axes.grid' : False})\n",
    "    df_summary = pd.DataFrame.from_dict({ k: abs(v[start_date:].mean()) for k, v in df_put.items()})\n",
    "    axs = df_summary.T.plot(kind='bar',\n",
    "                           secondary_y =['5d_pnl'],\n",
    "                           figsize=(14,4))\n",
    "    axs.legend(bbox_to_anchor=(1.175,1))\n",
    "    plt.legend(bbox_to_anchor=(1.175,0.9))\n",
    "    axs.set_ylabel('(abs.) Put VWKS')\n",
    "    axs.right_ax.set_ylabel('Pnl')\n",
    "#     axs.set_ylim((0,18))\n",
    "#     axs.right_ax.set_ylim((0.0035,0.004))\n",
    "    plt.title('Average Values by Day, PUTS')\n",
    "    plt.show()\n",
    "    sn.set_style(\"darkgrid\", {'axes.grid' : True})"
   ]
  },
  {
   "cell_type": "code",
   "execution_count": 25,
   "metadata": {
    "jupyter": {
     "source_hidden": true
    }
   },
   "outputs": [
    {
     "data": {
      "application/vnd.jupyter.widget-view+json": {
       "model_id": "cb53404361cb451182ae8f188e290a70",
       "version_major": 2,
       "version_minor": 0
      },
      "text/plain": [
       "Tab(children=(Output(), Output(), Output()), _titles={'0': 'Full', '1': 'Call', '2': 'Put'})"
      ]
     },
     "metadata": {},
     "output_type": "display_data"
    }
   ],
   "source": [
    "start_date= '2017-02-01'\n",
    "out1 = widgets.Output()\n",
    "out2 = widgets.Output()\n",
    "out3 = widgets.Output()\n",
    "\n",
    "tab = widgets.Tab(children = [out1, out2, out3])\n",
    "tab.set_title(0, 'Full')\n",
    "tab.set_title(1, 'Call')\n",
    "tab.set_title(2, 'Put')\n",
    "data1 = pd.DataFrame(np.random.normal(size = 50))\n",
    "display(tab)\n",
    "\n",
    "with out1:\n",
    "    sn.set_style(\"darkgrid\", {'axes.grid' : False})\n",
    "    df_summary = pd.DataFrame.from_dict({ k: v[start_date:].mean() for k, v in df_vwks.items()})\n",
    "    axs = df_summary.T.plot(kind='bar',\n",
    "                           secondary_y =['5d_pnl'],\n",
    "                           figsize=(14,4))\n",
    "    axs.legend(bbox_to_anchor=(1.175,1))\n",
    "    plt.legend(bbox_to_anchor=(1.175,0.9))\n",
    "    axs.set_ylabel('VWKS')\n",
    "    axs.right_ax.set_ylabel('Pnl')\n",
    "#     axs.right_ax.set_ylim((0.0035,0.004))\n",
    "    plt.title('Average Values by Day, FULL')\n",
    "    plt.show()\n",
    "    \n",
    "\n",
    "with out2:\n",
    "    sn.set_style(\"darkgrid\", {'axes.grid' : False})\n",
    "    df_summary = pd.DataFrame.from_dict({ k: v[start_date:].mean() for k, v in df_call.items()})\n",
    "    axs = df_summary.T.plot(kind='bar',\n",
    "                           secondary_y =['5d_pnl'],\n",
    "                           figsize=(14,4))\n",
    "    axs.legend(bbox_to_anchor=(1.175,1))\n",
    "    plt.legend(bbox_to_anchor=(1.175,0.9))\n",
    "    axs.set_ylabel('Call VWKS')\n",
    "    axs.right_ax.set_ylabel('Pnl')\n",
    "#     axs.right_ax.set_ylim((0.0035,0.004))\n",
    "    plt.title('Average Values by Day, CALLS')\n",
    "    plt.show()\n",
    "    sn.set_style(\"darkgrid\", {'axes.grid' : True})\n",
    "    \n",
    "with out3:\n",
    "    sn.set_style(\"darkgrid\", {'axes.grid' : False})\n",
    "    df_summary = pd.DataFrame.from_dict({ k: abs(v[start_date:].mean()) for k, v in df_put.items()})\n",
    "    axs = df_summary.T.plot(kind='bar',\n",
    "                           secondary_y =['5d_pnl'],\n",
    "                           figsize=(14,4))\n",
    "    axs.legend(bbox_to_anchor=(1.175,1))\n",
    "    plt.legend(bbox_to_anchor=(1.175,0.9))\n",
    "    axs.set_ylabel('(abs.) Put VWKS')\n",
    "    axs.right_ax.set_ylabel('Pnl')\n",
    "#     axs.set_ylim((0,18))\n",
    "#     axs.right_ax.set_ylim((0.0035,0.004))\n",
    "    plt.title('Average Values by Day, PUTS')\n",
    "    plt.show()\n",
    "    sn.set_style(\"darkgrid\", {'axes.grid' : True})"
   ]
  },
  {
   "cell_type": "code",
   "execution_count": 26,
   "metadata": {
    "jupyter": {
     "source_hidden": true
    }
   },
   "outputs": [
    {
     "data": {
      "application/vnd.jupyter.widget-view+json": {
       "model_id": "6d4a8d577d6e4c3d8716c72588bc1703",
       "version_major": 2,
       "version_minor": 0
      },
      "text/plain": [
       "Tab(children=(Output(), Output(), Output()), _titles={'0': 'Full', '1': 'Call', '2': 'Put'})"
      ]
     },
     "metadata": {},
     "output_type": "display_data"
    }
   ],
   "source": [
    "start_date= '2015-02-01'\n",
    "out1 = widgets.Output()\n",
    "out2 = widgets.Output()\n",
    "out3 = widgets.Output()\n",
    "\n",
    "tab = widgets.Tab(children = [out1, out2, out3])\n",
    "tab.set_title(0, 'Full')\n",
    "tab.set_title(1, 'Call')\n",
    "tab.set_title(2, 'Put')\n",
    "data1 = pd.DataFrame(np.random.normal(size = 50))\n",
    "display(tab)\n",
    "\n",
    "with out1:\n",
    "    sn.set_style(\"darkgrid\", {'axes.grid' : False})\n",
    "    df_summary = pd.DataFrame.from_dict({ k: v[start_date:].mean() for k, v in df_vwks.items()})\n",
    "    axs = df_summary.T.plot(kind='bar',\n",
    "                           secondary_y =['5d_pnl'],\n",
    "                           figsize=(14,4))\n",
    "    axs.legend(bbox_to_anchor=(1.175,1))\n",
    "    plt.legend(bbox_to_anchor=(1.175,0.9))\n",
    "    axs.set_ylabel('VWKS')\n",
    "    axs.right_ax.set_ylabel('Pnl')\n",
    "#     axs.right_ax.set_ylim((0.0035,0.004))\n",
    "    plt.title('Average Values by Day, FULL')\n",
    "    plt.show()\n",
    "    \n",
    "\n",
    "with out2:\n",
    "    sn.set_style(\"darkgrid\", {'axes.grid' : False})\n",
    "    df_summary = pd.DataFrame.from_dict({ k: v[start_date:].mean() for k, v in df_call.items()})\n",
    "    axs = df_summary.T.plot(kind='bar',\n",
    "                           secondary_y =['5d_pnl'],\n",
    "                           figsize=(14,4))\n",
    "    axs.legend(bbox_to_anchor=(1.175,1))\n",
    "    plt.legend(bbox_to_anchor=(1.175,0.9))\n",
    "    axs.set_ylabel('Call VWKS')\n",
    "    axs.right_ax.set_ylabel('Pnl')\n",
    "#     axs.right_ax.set_ylim((0.0035,0.004))\n",
    "    plt.title('Average Values by Day, CALLS')\n",
    "    plt.show()\n",
    "    sn.set_style(\"darkgrid\", {'axes.grid' : True})\n",
    "    \n",
    "with out3:\n",
    "    sn.set_style(\"darkgrid\", {'axes.grid' : False})\n",
    "    df_summary = pd.DataFrame.from_dict({ k: abs(v[start_date:].mean()) for k, v in df_put.items()})\n",
    "    axs = df_summary.T.plot(kind='bar',\n",
    "                           secondary_y =['5d_pnl'],\n",
    "                           figsize=(14,4))\n",
    "    axs.legend(bbox_to_anchor=(1.175,1))\n",
    "    plt.legend(bbox_to_anchor=(1.175,0.9))\n",
    "    axs.set_ylabel('(abs.) Put VWKS')\n",
    "    axs.right_ax.set_ylabel('Pnl')\n",
    "#     axs.set_ylim((0,18))\n",
    "#     axs.right_ax.set_ylim((0.0035,0.004))\n",
    "    plt.title('Average Values by Day, PUTS')\n",
    "    plt.show()\n",
    "    sn.set_style(\"darkgrid\", {'axes.grid' : True})"
   ]
  }
 ],
 "metadata": {
  "kernelspec": {
   "display_name": "Python 3",
   "language": "python",
   "name": "python3"
  },
  "language_info": {
   "codemirror_mode": {
    "name": "ipython",
    "version": 3
   },
   "file_extension": ".py",
   "mimetype": "text/x-python",
   "name": "python",
   "nbconvert_exporter": "python",
   "pygments_lexer": "ipython3",
   "version": "3.7.1"
  }
 },
 "nbformat": 4,
 "nbformat_minor": 4
}
